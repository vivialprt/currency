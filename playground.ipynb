{
 "cells": [
  {
   "cell_type": "code",
   "execution_count": 1,
   "id": "dae43661",
   "metadata": {},
   "outputs": [],
   "source": [
    "import numpy as np\n",
    "import matplotlib.pyplot as plt\n",
    "import pandas as pd\n",
    "%matplotlib inline\n",
    "import time\n",
    "import os\n",
    "from datetime import datetime,timedelta\n",
    "from tqdm.notebook import tqdm\n",
    "import plotly.graph_objects as go\n",
    "from pprint import pprint\n",
    "from currencycom.client import Client"
   ]
  },
  {
   "cell_type": "code",
   "execution_count": 2,
   "id": "5b84e5a0",
   "metadata": {},
   "outputs": [],
   "source": [
    "def minute_passed(last_timestamp: datetime, current_timestamp: datetime) -> bool:\n",
    "    return current_timestamp - last_timestamp >= timedelta(minutes=1)\n",
    "\n",
    "def hour_passed(last_timestamp: float, current_timestamp: datetime) -> bool:\n",
    "    return current_timestamp - last_timestamp >= timedelta(hours=1)\n",
    "\n",
    "def delta_passed(last_timestamp:float, current_timestamp: datetime, delta: timedelta) -> bool:\n",
    "    return current_timestamp - last_timestamp >= delta\n",
    "\n",
    "def time_up(current_timestamp: datetime, finish_time: datetime) -> bool:\n",
    "    return finish_time - current_timestamp <= timedelta()\n",
    "\n",
    "def get_server_time() -> datetime:\n",
    "    return datetimify(Client.get_server_time()['serverTime'])\n",
    "\n",
    "def datetimify(time: str) -> datetime:\n",
    "    return datetime.fromtimestamp(int(time) * 0.001)"
   ]
  },
  {
   "cell_type": "code",
   "execution_count": 10,
   "id": "a539a109",
   "metadata": {},
   "outputs": [],
   "source": [
    "def collect_prices(\n",
    "    for_: timedelta,\n",
    "    pair: str = 'BTC/USD',\n",
    "    save_interval: timedelta = timedelta(hours=1)\n",
    ") -> None:\n",
    "\n",
    "    current_time = save_time = start_time = get_server_time()\n",
    "    prices = []\n",
    "    print(f'Start time: {start_time}')\n",
    "\n",
    "    while not delta_passed(start_time, current_time, for_):\n",
    "        try:\n",
    "            current_time = get_server_time()\n",
    "            price_change = Client.get_24h_price_change(pair)\n",
    "            prices.append({\n",
    "                'price': float(price_change['lastPrice']),\n",
    "                'time': datetimify(price_change['closeTime'])\n",
    "            })\n",
    "\n",
    "            if delta_passed(save_time, current_time, save_interval):\n",
    "                save_time = current_time\n",
    "                filename = f'data/{\"_\".join(pair.split(\"/\"))}_{save_time.strftime(\"%y-%m-%d_%H-%M\")}_prev{save_interval}.csv'\n",
    "                pd.DataFrame.from_records(prices).drop_duplicates().to_csv(filename)\n",
    "                print(f'Saved to {filename}')\n",
    "                prices = []\n",
    "        except Exception as e:\n",
    "            print(e)\n",
    "        except KeyboardInterrupt:\n",
    "            break\n",
    "\n",
    "    save_time = current_time\n",
    "    filename = f'data/{\"_\".join(pair.split(\"/\"))}_{save_time.strftime(\"%y-%m-%d_%H-%M\")}_prev{save_interval}.csv'\n",
    "    pd.DataFrame.from_records(prices).drop_duplicates().to_csv(filename)\n",
    "    print(f'Saved to {filename}')"
   ]
  },
  {
   "cell_type": "code",
   "execution_count": 11,
   "id": "8f379186",
   "metadata": {},
   "outputs": [],
   "source": [
    "def load_prices(data_dir='data'):\n",
    "    series = []\n",
    "    for f in os.listdir(data_dir):\n",
    "        if f.endswith('csv'):\n",
    "            series.append(pd.read_csv(os.path.join(data_dir, f), index_col=0, parse_dates=['time']))\n",
    "    return pd.concat(series).drop_duplicates().sort_values('time').reset_index(drop=True)"
   ]
  },
  {
   "cell_type": "code",
   "execution_count": null,
   "id": "89ce3f98",
   "metadata": {},
   "outputs": [
    {
     "name": "stdout",
     "output_type": "stream",
     "text": [
      "Start time: 2021-07-13 10:17:28.569000\n",
      "Saved to data/BTC_USD_21-07-13_10-47_prev0:30:00.csv\n"
     ]
    }
   ],
   "source": [
    "collect_prices(for_=timedelta(hours=2), save_interval=timedelta(minutes=30))"
   ]
  },
  {
   "cell_type": "code",
   "execution_count": 99,
   "id": "e785521b",
   "metadata": {},
   "outputs": [],
   "source": [
    "df = load_prices()"
   ]
  },
  {
   "cell_type": "code",
   "execution_count": 101,
   "id": "03a46d65",
   "metadata": {},
   "outputs": [
    {
     "data": {
      "text/plain": [
       "<AxesSubplot:xlabel='time'>"
      ]
     },
     "execution_count": 101,
     "metadata": {},
     "output_type": "execute_result"
    },
    {
     "data": {
      "image/png": "[encoded data removed]",
      "text/plain": [
       "<Figure size 432x288 with 1 Axes>"
      ]
     },
     "metadata": {
      "needs_background": "light"
     },
     "output_type": "display_data"
    }
   ],
   "source": [
    "df.plot('time', 'price')"
   ]
  },
  {
   "cell_type": "code",
   "execution_count": null,
   "id": "3a23e395",
   "metadata": {},
   "outputs": [],
   "source": []
  }
 ],
 "metadata": {
  "kernelspec": {
   "display_name": "Python 3",
   "language": "python",
   "name": "python3"
  },
  "language_info": {
   "codemirror_mode": {
    "name": "ipython",
    "version": 3
   },
   "file_extension": ".py",
   "mimetype": "text/x-python",
   "name": "python",
   "nbconvert_exporter": "python",
   "pygments_lexer": "ipython3",
   "version": "3.8.10"
  }
 },
 "nbformat": 4,
 "nbformat_minor": 5
}
